{
 "cells": [
  {
   "cell_type": "code",
   "execution_count": 1,
   "id": "05e89636-126f-467b-956d-0ed384884b2c",
   "metadata": {
    "tags": []
   },
   "outputs": [
    {
     "name": "stdout",
     "output_type": "stream",
     "text": [
      "Welcome to the ToDo List Manager!\n",
      "1. Add Task\n",
      "2. Mark Task as Completed\n",
      "3. List Tasks\n",
      "4. Remove Task\n",
      "5. Quit\n"
     ]
    },
    {
     "name": "stdin",
     "output_type": "stream",
     "text": [
      "Select an option:  1\n",
      "Enter task description:  Going to work\n"
     ]
    },
    {
     "name": "stdout",
     "output_type": "stream",
     "text": [
      "Task added!\n",
      "Welcome to the ToDo List Manager!\n",
      "1. Add Task\n",
      "2. Mark Task as Completed\n",
      "3. List Tasks\n",
      "4. Remove Task\n",
      "5. Quit\n"
     ]
    },
    {
     "name": "stdin",
     "output_type": "stream",
     "text": [
      "Select an option:  1\n",
      "Enter task description:  Eating Breakfast\n"
     ]
    },
    {
     "name": "stdout",
     "output_type": "stream",
     "text": [
      "Task added!\n",
      "Welcome to the ToDo List Manager!\n",
      "1. Add Task\n",
      "2. Mark Task as Completed\n",
      "3. List Tasks\n",
      "4. Remove Task\n",
      "5. Quit\n"
     ]
    },
    {
     "name": "stdin",
     "output_type": "stream",
     "text": [
      "Select an option:  1\n",
      "Enter task description:  Going for Dinner\n"
     ]
    },
    {
     "name": "stdout",
     "output_type": "stream",
     "text": [
      "Task added!\n",
      "Welcome to the ToDo List Manager!\n",
      "1. Add Task\n",
      "2. Mark Task as Completed\n",
      "3. List Tasks\n",
      "4. Remove Task\n",
      "5. Quit\n"
     ]
    },
    {
     "name": "stdin",
     "output_type": "stream",
     "text": [
      "Select an option:  1\n",
      "Enter task description:  Having fun\n"
     ]
    },
    {
     "name": "stdout",
     "output_type": "stream",
     "text": [
      "Task added!\n",
      "Welcome to the ToDo List Manager!\n",
      "1. Add Task\n",
      "2. Mark Task as Completed\n",
      "3. List Tasks\n",
      "4. Remove Task\n",
      "5. Quit\n"
     ]
    },
    {
     "name": "stdin",
     "output_type": "stream",
     "text": [
      "Select an option:  2\n",
      "Enter task index:  2\n"
     ]
    },
    {
     "name": "stdout",
     "output_type": "stream",
     "text": [
      "Task marked as completed.\n",
      "Welcome to the ToDo List Manager!\n",
      "1. Add Task\n",
      "2. Mark Task as Completed\n",
      "3. List Tasks\n",
      "4. Remove Task\n",
      "5. Quit\n"
     ]
    },
    {
     "name": "stdin",
     "output_type": "stream",
     "text": [
      "Select an option:  3\n"
     ]
    },
    {
     "name": "stdout",
     "output_type": "stream",
     "text": [
      "Task List:\n",
      "0. Going to work - Not Completed\n",
      "1. Eating Breakfast - Not Completed\n",
      "2. Going for Dinner - Completed\n",
      "3. Having fun - Not Completed\n",
      "Welcome to the ToDo List Manager!\n",
      "1. Add Task\n",
      "2. Mark Task as Completed\n",
      "3. List Tasks\n",
      "4. Remove Task\n",
      "5. Quit\n"
     ]
    },
    {
     "name": "stdin",
     "output_type": "stream",
     "text": [
      "Select an option:  4\n",
      "Enter task index:  3\n"
     ]
    },
    {
     "name": "stdout",
     "output_type": "stream",
     "text": [
      "Removed task: Having fun\n",
      "Welcome to the ToDo List Manager!\n",
      "1. Add Task\n",
      "2. Mark Task as Completed\n",
      "3. List Tasks\n",
      "4. Remove Task\n",
      "5. Quit\n"
     ]
    },
    {
     "name": "stdin",
     "output_type": "stream",
     "text": [
      "Select an option:  5\n"
     ]
    },
    {
     "name": "stdout",
     "output_type": "stream",
     "text": [
      "Goodbye!\n"
     ]
    }
   ],
   "source": [
    "class ToDoListManager:\n",
    "    def __init__(self):\n",
    "        self.tasks = []\n",
    "\n",
    "    def display_menu(self):\n",
    "        print(\"Welcome to the ToDo List Manager!\")\n",
    "        print(\"1. Add Task\")\n",
    "        print(\"2. Mark Task as Completed\")\n",
    "        print(\"3. List Tasks\")\n",
    "        print(\"4. Remove Task\")\n",
    "        print(\"5. Quit\")\n",
    "\n",
    "    def add_task(self, task_description):\n",
    "        self.tasks.append({\"description\": task_description, \"completed\": False})\n",
    "        print(\"Task added!\")\n",
    "\n",
    "    def mark_task_completed(self, task_index):\n",
    "        if 0 <= task_index < len(self.tasks):\n",
    "            if not self.tasks[task_index][\"completed\"]:\n",
    "                self.tasks[task_index][\"completed\"] = True\n",
    "                print(\"Task marked as completed.\")\n",
    "            else:\n",
    "                print(\"Task is already completed.\")\n",
    "        else:\n",
    "            print(\"Invalid task index.\")\n",
    "\n",
    "    def list_tasks(self):\n",
    "        print(\"Task List:\")\n",
    "        for index, task in enumerate(self.tasks):\n",
    "            status = \"Completed\" if task[\"completed\"] else \"Not Completed\"\n",
    "            print(f\"{index}. {task['description']} - {status}\")\n",
    "\n",
    "    def remove_task(self, task_index):\n",
    "        if 0 <= task_index < len(self.tasks):\n",
    "            removed_task = self.tasks.pop(task_index)\n",
    "            print(f\"Removed task: {removed_task['description']}\")\n",
    "        else:\n",
    "            print(\"Invalid task index.\")\n",
    "\n",
    "    def run(self):\n",
    "        while True:\n",
    "            self.display_menu()\n",
    "            choice = input(\"Select an option: \")\n",
    "\n",
    "            if choice == \"1\":\n",
    "                task_description = input(\"Enter task description: \")\n",
    "                self.add_task(task_description)\n",
    "            elif choice == \"2\":\n",
    "                task_index = int(input(\"Enter task index: \"))\n",
    "                self.mark_task_completed(task_index)\n",
    "            elif choice == \"3\":\n",
    "                self.list_tasks()\n",
    "            elif choice == \"4\":\n",
    "                task_index = int(input(\"Enter task index: \"))\n",
    "                self.remove_task(task_index)\n",
    "            elif choice == \"5\":\n",
    "                print(\"Goodbye!\")\n",
    "                break\n",
    "            else:\n",
    "                print(\"Invalid choice. Please select again.\")\n",
    "\n",
    "\n",
    "if __name__ == \"__main__\":\n",
    "    todo_manager = ToDoListManager()\n",
    "    todo_manager.run()\n",
    " \n",
    "\n",
    "\n",
    "\n",
    "\n",
    "\n"
   ]
  }
 ],
 "metadata": {
  "kernelspec": {
   "display_name": "Python 3 (ipykernel)",
   "language": "python",
   "name": "python3"
  },
  "language_info": {
   "codemirror_mode": {
    "name": "ipython",
    "version": 3
   },
   "file_extension": ".py",
   "mimetype": "text/x-python",
   "name": "python",
   "nbconvert_exporter": "python",
   "pygments_lexer": "ipython3",
   "version": "3.11.4"
  }
 },
 "nbformat": 4,
 "nbformat_minor": 5
}
